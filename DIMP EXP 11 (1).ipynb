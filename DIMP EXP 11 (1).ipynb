{
 "cells": [
  {
   "cell_type": "code",
   "execution_count": null,
   "id": "8fc95865-b1d1-4966-8253-8827ae6eca10",
   "metadata": {},
   "outputs": [],
   "source": [
    "Developed by: THAMIZH KUMARAN S\n",
    "RegisterNumber: 212223240166"
   ]
  },
  {
   "cell_type": "code",
   "execution_count": 1,
   "id": "4d94eb62-47c0-49cb-892a-df1cd4d25c49",
   "metadata": {},
   "outputs": [],
   "source": [
    "input_string = \"THAMIZH\" "
   ]
  },
  {
   "cell_type": "code",
   "execution_count": 2,
   "id": "78af8319-d02a-45e5-8395-e6157c653575",
   "metadata": {},
   "outputs": [],
   "source": [
    "frequency = {}\n",
    "for char in input_string:\n",
    "    if char in frequency:\n",
    "        frequency[char] += 1\n",
    "    else:\n",
    "        frequency[char] = 1"
   ]
  },
  {
   "cell_type": "code",
   "execution_count": 3,
   "id": "f596c0db-ea61-46e8-93b8-19e35e6f7cdd",
   "metadata": {},
   "outputs": [],
   "source": [
    "nodes = [[char, freq] for char, freq in frequency.items()]"
   ]
  },
  {
   "cell_type": "code",
   "execution_count": 4,
   "id": "a7f11497-a061-4bf9-8ceb-ccf917887b4c",
   "metadata": {},
   "outputs": [],
   "source": [
    "while len(nodes) > 1:\n",
    "    nodes = sorted(nodes, key=lambda x: x[1])\n",
    "    left = nodes.pop(0)\n",
    "    right = nodes.pop(0)\n",
    "\n",
    "    new_node = [[left, right], left[1] + right[1]]\n",
    "    nodes.append(new_node)\n",
    "\n",
    "huffman_tree = nodes[0]"
   ]
  },
  {
   "cell_type": "code",
   "execution_count": 5,
   "id": "9658b34a-1075-4ba0-8bed-c5ff8154ed5b",
   "metadata": {},
   "outputs": [],
   "source": [
    "huffman_codes = {}\n",
    "\n",
    "def generate_codes(tree, code=\"\"):\n",
    "    if isinstance(tree[0], str):  \n",
    "        huffman_codes[tree[0]] = code\n",
    "    else:\n",
    "        generate_codes(tree[0][0], code + \"0\")\n",
    "        generate_codes(tree[0][1], code + \"1\")\n",
    "\n",
    "generate_codes(huffman_tree)"
   ]
  },
  {
   "cell_type": "code",
   "execution_count": 6,
   "id": "97b7e0b6-e7af-43e4-aa9e-71fa92b83733",
   "metadata": {},
   "outputs": [
    {
     "name": "stdout",
     "output_type": "stream",
     "text": [
      "Character | Huffman Code\n",
      "-------------------------\n",
      "    N    |    00\n",
      "    R    |    01\n",
      "    I    |    10\n",
      "    H    |    110\n",
      "    E    |    111\n"
     ]
    }
   ],
   "source": [
    "print(\"Character | Huffman Code\")\n",
    "print(\"-------------------------\")\n",
    "for char, code in huffman_codes.items():\n",
    "    print(f\"    {char}    |    {code}\")"
   ]
  },
  {
   "cell_type": "code",
   "execution_count": null,
   "id": "16aad752-e052-4add-85e9-c29971e476b9",
   "metadata": {},
   "outputs": [],
   "source": []
  }
 ],
 "metadata": {
  "kernelspec": {
   "display_name": "Python 3 (ipykernel)",
   "language": "python",
   "name": "python3"
  },
  "language_info": {
   "codemirror_mode": {
    "name": "ipython",
    "version": 3
   },
   "file_extension": ".py",
   "mimetype": "text/x-python",
   "name": "python",
   "nbconvert_exporter": "python",
   "pygments_lexer": "ipython3",
   "version": "3.11.11"
  }
 },
 "nbformat": 4,
 "nbformat_minor": 5
}
